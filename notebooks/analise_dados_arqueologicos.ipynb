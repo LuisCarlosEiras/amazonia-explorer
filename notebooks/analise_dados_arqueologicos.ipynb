# Análise de Dados Arqueológicos da Amazônia
# Autor: Amazônia Explorer
# Data: Junho 2025
# Descrição: Este notebook demonstra a análise de dados arqueológicos da Amazônia,
# incluindo visualização de distribuição espacial e análise de padrões temporais.

import os
import numpy as np
import pandas as pd
import matplotlib.pyplot as plt
import seaborn as sns
from matplotlib.colors import LinearSegmentedColormap
import random
from datetime import datetime, timedelta

# Configurações
RANDOM_SEED = 42
np.random.seed(RANDOM_SEED)
random.seed(RANDOM_SEED)

# Diretório para salvar resultados
RESULTS_DIR = '../data/resultados/notebooks'
os.makedirs(RESULTS_DIR, exist_ok=True)

# 1. Introdução à análise de dados arqueológicos
print("# Análise de Dados Arqueológicos da Amazônia")
print("\nEste notebook demonstra técnicas de análise de dados aplicadas a sítios arqueológicos")
print("da Amazônia, incluindo visualização espacial, análise temporal e correlações.")

# 2. Geração de dados simulados de sítios arqueológicos
print("\n## Geração de dados simulados de sítios arqueológicos")

def gerar_dados_sitios(n_sitios=100):
    """
    Gera dados simulados de sítios arqueológicos na Amazônia.
    
    Args:
        n_sitios (int): Número de sítios a serem gerados
    
    Returns:
        pandas.DataFrame: DataFrame com dados dos sítios
    """
    # Definir região da Amazônia (coordenadas aproximadas)
    # Latitude: -10 a 5 (Sul a Norte)
    # Longitude: -75 a -50 (Oeste a Leste)
    
    # Gerar coordenadas com clusters
    # Definir centros de clusters (representando diferentes culturas/períodos)
    centros_clusters = [
        (-5, -65),  # Centro da Amazônia
        (-3, -60),  # Próximo a Manaus
        (-8, -63),  # Sul da Amazônia
        (-2, -55),  # Próximo ao Rio Tapajós
        (-7, -72)   # Oeste da Amazônia
    ]
    
    # Atribuir cada sítio a um cluster
    cluster_ids = np.random.choice(len(centros_clusters), size=n_sitios, p=[0.3, 0.25, 0.2, 0.15, 0.1])
    
    # Gerar coordenadas baseadas no cluster
    latitudes = []
    longitudes = []
    for cluster_id in cluster_ids:
        centro = centros_clusters[cluster_id]
        # Adicionar variação ao redor do centro do cluster
        lat = centro[0] + np.random.normal(0, 1)
        lon = centro[1] + np.random.normal(0, 1)
        
        # Garantir que estamos dentro dos limites da Amazônia
        lat = np.clip(lat, -10, 5)
        lon = np.clip(lon, -75, -50)
        
        latitudes.append(lat)
        longitudes.append(lon)
    
    # Gerar tipos de sítios
    tipos_sitios = ['geoglifo', 'aldeia_circular', 'vala_defensiva', 'terra_preta', 'montículo']
    tipos = np.random.choice(tipos_sitios, size=n_sitios, p=[0.3, 0.25, 0.2, 0.15, 0.1])
    
    # Gerar tamanhos dos sítios (em hectares)
    tamanhos = np.zeros(n_sitios)
    for i, tipo in enumerate(tipos):
        if tipo == 'geoglifo':
            tamanhos[i] = np.random.gamma(5, 2)  # Geoglifos tendem a ser maiores
        elif tipo == 'aldeia_circular':
            tamanhos[i] = np.random.gamma(3, 1.5)
        elif tipo == 'vala_defensiva':
            tamanhos[i] = np.random.gamma(4, 1.8)
        elif tipo == 'terra_preta':
            tamanhos[i] = np.random.gamma(2, 1)
        elif tipo == 'montículo':
            tamanhos[i] = np.random.gamma(1, 0.5)  # Montículos tendem a ser menores
    
    # Gerar datas aproximadas (anos antes do presente)
    # Diferentes tipos têm diferentes distribuições temporais
    datas_bp = np.zeros(n_sitios)
    for i, tipo in enumerate(tipos):
        if tipo == 'geoglifo':
            datas_bp[i] = np.random.normal(2000, 300)  # Geoglifos: ~2000 BP
        elif tipo == 'aldeia_circular':
            datas_bp[i] = np.random.normal(1000, 200)  # Aldeias: ~1000 BP
        elif tipo == 'vala_defensiva':
            datas_bp[i] = np.random.normal(1500, 250)  # Valas: ~1500 BP
        elif tipo == 'terra_preta':
            datas_bp[i] = np.random.normal(1200, 400)  # Terra preta: ~1200 BP
        elif tipo == 'montículo':
            datas_bp[i] = np.random.normal(2500, 500)  # Montículos: ~2500 BP
    
    datas_bp = np.abs(datas_bp).astype(int)  # Garantir valores positivos e inteiros
    
    # Gerar profundidade de artefatos (em cm)
    profundidades = np.zeros(n_sitios)
    for i, data in enumerate(datas_bp):
        # Sítios mais antigos tendem a estar mais profundos
        profundidades[i] = 20 + data / 100 + np.random.normal(0, 10)
    
    profundidades = np.clip(profundidades, 10, 200).astype(int)
    
    # Gerar densidade de artefatos (por m²)
    densidades = np.zeros(n_sitios)
    for i, tipo in enumerate(tipos):
        if tipo == 'terra_preta':
            densidades[i] = np.random.gamma(10, 0.5)  # Terra preta: alta densidade
        elif tipo == 'aldeia_circular':
            densidades[i] = np.random.gamma(7, 0.6)
        elif tipo == 'montículo':
            densidades[i] = np.random.gamma(8, 0.4)
        elif tipo == 'vala_defensiva':
            densidades[i] = np.random.gamma(4, 0.7)
        elif tipo == 'geoglifo':
            densidades[i] = np.random.gamma(3, 0.8)  # Geoglifos: baixa densidade
    
    # Gerar presença de cerâmica (binário)
    ceramica = np.zeros(n_sitios, dtype=bool)
    for i, tipo in enumerate(tipos):
        if tipo == 'terra_preta':
            ceramica[i] = np.random.random() < 0.95  # Terra preta: alta probabilidade
        elif tipo == 'aldeia_circular':
            ceramica[i] = np.random.random() < 0.9
        elif tipo == 'montículo':
            ceramica[i] = np.random.random() < 0.8
        elif tipo == 'vala_defensiva':
            ceramica[i] = np.random.random() < 0.7
        elif tipo == 'geoglifo':
            ceramica[i] = np.random.random() < 0.5  # Geoglifos: baixa probabilidade
    
    # Criar DataFrame
    sitios = pd.DataFrame({
        'latitude': latitudes,
        'longitude': longitudes,
        'tipo': tipos,
        'tamanho_ha': tamanhos,
        'data_bp': datas_bp,
        'profundidade_cm': profundidades,
        'densidade_artefatos': densidades,
        'ceramica': ceramica,
        'cluster_id': cluster_ids
    })
    
    # Adicionar IDs de sítios
    sitios['id'] = [f'AMZ-{i+1:03d}' for i in range(n_sitios)]
    
    return sitios

# Gerar dados simulados
print("\nGerando dados simulados de sítios arqueológicos na Amazônia...")
sitios = gerar_dados_sitios(n_sitios=150)

# Visualizar os primeiros registros
print("\nPrimeiros registros do conjunto de dados:")
print(sitios.head())

# Estatísticas descritivas
print("\nEstatísticas descritivas:")
print(sitios.describe())

# Contagem por tipo de sítio
print("\nContagem por tipo de sítio:")
print(sitios['tipo'].value_counts())

# 3. Visualização da distribuição espacial
print("\n## Visualização da distribuição espacial dos sítios")

# Criar mapa de distribuição dos sítios
plt.figure(figsize=(12, 10))

# Definir limites do mapa (Amazônia)
plt.xlim(-75, -50)
plt.ylim(-10, 5)

# Plotar sítios por tipo
for tipo in sitios['tipo'].unique():
    subset = sitios[sitios['tipo'] == tipo]
    plt.scatter(subset['longitude'], subset['latitude'], 
                label=tipo.replace('_', ' ').title(),
                alpha=0.7, s=subset['tamanho_ha']*5)

# Adicionar grade e rótulos
plt.grid(True, linestyle='--', alpha=0.7)
plt.xlabel('Longitude')
plt.ylabel('Latitude')
plt.title('Distribuição Espacial de Sítios Arqueológicos na Amazônia')
plt.legend()

# Adicionar contorno aproximado da Amazônia (simplificado)
# Isto é apenas ilustrativo
amazon_outline = np.array([
    [-73, -5],  # Oeste
    [-70, 0],   # Noroeste
    [-60, 5],   # Norte
    [-50, 0],   # Nordeste
    [-55, -5],  # Leste
    [-60, -10], # Sudeste
    [-70, -8],  # Sul
    [-73, -5]   # Fechamento
])
plt.plot(amazon_outline[:, 0], amazon_outline[:, 1], 'k--', alpha=0.5)

plt.tight_layout()
plt.savefig(os.path.join(RESULTS_DIR, 'distribuicao_espacial_sitios.png'), dpi=300)

# Mapa de calor da densidade de sítios
plt.figure(figsize=(12, 10))

# Criar mapa de calor usando KDE
sns.kdeplot(
    x=sitios['longitude'],
    y=sitios['latitude'],
    cmap="YlOrRd",
    fill=True,
    alpha=0.7,
    thresh=0,
    levels=20
)

# Adicionar pontos dos sítios
plt.scatter(sitios['longitude'], sitios['latitude'], c='black', s=10, alpha=0.5)

# Adicionar grade e rótulos
plt.grid(True, linestyle='--', alpha=0.7)
plt.xlabel('Longitude')
plt.ylabel('Latitude')
plt.title('Mapa de Calor da Densidade de Sítios Arqueológicos na Amazônia')

# Adicionar contorno aproximado da Amazônia
plt.plot(amazon_outline[:, 0], amazon_outline[:, 1], 'k--', alpha=0.5)

plt.tight_layout()
plt.savefig(os.path.join(RESULTS_DIR, 'mapa_calor_sitios.png'), dpi=300)

# 4. Análise temporal
print("\n## Análise temporal dos sítios")

# Histograma de datas por tipo de sítio
plt.figure(figsize=(12, 8))
for tipo in sitios['tipo'].unique():
    subset = sitios[sitios['tipo'] == tipo]
    sns.histplot(subset['data_bp'], bins=15, kde=True, 
                 label=tipo.replace('_', ' ').title(), alpha=0.6)

plt.xlabel('Anos Antes do Presente (BP)')
plt.ylabel('Número de Sítios')
plt.title('Distribuição Temporal de Sítios Arqueológicos por Tipo')
plt.legend()
plt.grid(True, linestyle='--', alpha=0.7)
plt.tight_layout()
plt.savefig(os.path.join(RESULTS_DIR, 'distribuicao_temporal_sitios.png'), dpi=300)

# Boxplot de datas por tipo de sítio
plt.figure(figsize=(12, 6))
sns.boxplot(x='tipo', y='data_bp', data=sitios)
plt.xlabel('Tipo de Sítio')
plt.ylabel('Anos Antes do Presente (BP)')
plt.title('Distribuição Temporal por Tipo de Sítio')
plt.xticks(rotation=45)
plt.grid(True, linestyle='--', alpha=0.7)
plt.tight_layout()
plt.savefig(os.path.join(RESULTS_DIR, 'boxplot_temporal_sitios.png'), dpi=300)

# 5. Análise de correlações
print("\n## Análise de correlações entre variáveis")

# Selecionar variáveis numéricas
variaveis_numericas = ['tamanho_ha', 'data_bp', 'profundidade_cm', 'densidade_artefatos']
correlacoes = sitios[variaveis_numericas].corr()

# Mapa de calor das correlações
plt.figure(figsize=(10, 8))
sns.heatmap(correlacoes, annot=True, cmap='coolwarm', vmin=-1, vmax=1)
plt.title('Correlações entre Variáveis')
plt.tight_layout()
plt.savefig(os.path.join(RESULTS_DIR, 'correlacoes_sitios.png'), dpi=300)

# Gráfico de dispersão entre tamanho e data
plt.figure(figsize=(10, 8))
sns.scatterplot(x='data_bp', y='tamanho_ha', hue='tipo', size='densidade_artefatos',
                sizes=(20, 200), alpha=0.7, data=sitios)
plt.xlabel('Anos Antes do Presente (BP)')
plt.ylabel('Tamanho (hectares)')
plt.title('Relação entre Antiguidade e Tamanho dos Sítios')
plt.grid(True, linestyle='--', alpha=0.7)
plt.tight_layout()
plt.savefig(os.path.join(RESULTS_DIR, 'dispersao_tamanho_data.png'), dpi=300)

# 6. Análise de clusters
print("\n## Análise de clusters espaciais")

# Visualizar clusters espaciais
plt.figure(figsize=(12, 10))

# Definir limites do mapa (Amazônia)
plt.xlim(-75, -50)
plt.ylim(-10, 5)

# Plotar sítios por cluster
for cluster_id in sitios['cluster_id'].unique():
    subset = sitios[sitios['cluster_id'] == cluster_id]
    plt.scatter(subset['longitude'], subset['latitude'], 
                label=f'Cluster {cluster_id+1}',
                alpha=0.7, s=50)

# Adicionar grade e rótulos
plt.grid(True, linestyle='--', alpha=0.7)
plt.xlabel('Longitude')
plt.ylabel('Latitude')
plt.title('Clusters Espaciais de Sítios Arqueológicos na Amazônia')
plt.legend()

# Adicionar contorno aproximado da Amazônia
plt.plot(amazon_outline[:, 0], amazon_outline[:, 1], 'k--', alpha=0.5)

plt.tight_layout()
plt.savefig(os.path.join(RESULTS_DIR, 'clusters_espaciais_sitios.png'), dpi=300)

# Análise de características por cluster
plt.figure(figsize=(12, 8))
sns.boxplot(x='cluster_id', y='data_bp', data=sitios)
plt.xlabel('Cluster ID')
plt.ylabel('Anos Antes do Presente (BP)')
plt.title('Distribuição Temporal por Cluster')
plt.grid(True, linestyle='--', alpha=0.7)
plt.tight_layout()
plt.savefig(os.path.join(RESULTS_DIR, 'boxplot_temporal_clusters.png'), dpi=300)

# 7. Análise de presença de cerâmica
print("\n## Análise de presença de cerâmica")

# Contagem de sítios com cerâmica por tipo
ceramica_por_tipo = sitios.groupby('tipo')['ceramica'].sum().reset_index()
ceramica_por_tipo['total'] = sitios.groupby('tipo').size().values
ceramica_por_tipo['percentual'] = ceramica_por_tipo['ceramica'] / ceramica_por_tipo['total'] * 100

# Gráfico de barras de presença de cerâmica por tipo
plt.figure(figsize=(12, 6))
sns.barplot(x='tipo', y='percentual', data=ceramica_por_tipo)
plt.xlabel('Tipo de Sítio')
plt.ylabel('Percentual com Cerâmica (%)')
plt.title('Presença de Cerâmica por Tipo de Sítio')
plt.xticks(rotation=45)
plt.grid(True, linestyle='--', alpha=0.7)
plt.tight_layout()
plt.savefig(os.path.join(RESULTS_DIR, 'ceramica_por_tipo.png'), dpi=300)

# 8. Exportar dados para uso em outros notebooks
print("\n## Exportando dados para uso em outros notebooks")

# Salvar DataFrame como CSV
sitios.to_csv(os.path.join(RESULTS_DIR, 'sitios_arqueologicos.csv'), index=False)
print(f"Dados salvos em: {os.path.join(RESULTS_DIR, 'sitios_arqueologicos.csv')}")

# 9. Conclusão
print("\n## Conclusão")
print("\nEste notebook demonstrou técnicas de análise de dados aplicadas a sítios arqueológicos")
print("da Amazônia, incluindo:")
print("- Visualização da distribuição espacial dos sítios")
print("- Análise de padrões temporais")
print("- Correlações entre variáveis")
print("- Análise de clusters espaciais")
print("- Análise de presença de cerâmica")
print("\nEstas técnicas podem ser aplicadas a dados arqueológicos reais para identificar")
print("padrões e relações que ajudem a compreender as antigas civilizações amazônicas.")

print("\nResultados salvos em:", RESULTS_DIR)
