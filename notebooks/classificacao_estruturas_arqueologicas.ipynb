import numpy as np
import pandas as pd
import matplotlib.pyplot as plt
import seaborn as sns
from sklearn.ensemble import RandomForestClassifier
from sklearn.model_selection import train_test_split
from sklearn.metrics import accuracy_score, confusion_matrix, classification_report
import os
import json

# Notebook de demonstração para análise de padrões arqueológicos na Amazônia
# Autor: Amazônia Explorer
# Data: Junho 2025

# Configuração do notebook
RANDOM_SEED = 42
np.random.seed(RANDOM_SEED)

# Diretório para salvar resultados
RESULTS_DIR = '../data/resultados/notebooks'
os.makedirs(RESULTS_DIR, exist_ok=True)

# 1. Geração de dados simulados para demonstração
print("Gerando dados simulados para análise de padrões arqueológicos...")

# Definir tipos de estruturas arqueológicas
tipos_estruturas = ['geoglifo', 'aldeia_circular', 'vala_defensiva', 'terra_preta', 'montículo']

# Gerar características para cada tipo de estrutura
n_amostras = 50  # 50 amostras por tipo
n_total = n_amostras * len(tipos_estruturas)

# Inicializar DataFrame
dados = pd.DataFrame()

# Características para cada tipo de estrutura
for i, tipo in enumerate(tipos_estruturas):
    # Base comum
    df_tipo = pd.DataFrame({
        'area': np.random.normal(0, 1, n_amostras),
        'perimetro': np.random.normal(0, 1, n_amostras),
        'circularidade': np.random.normal(0, 1, n_amostras),
        'elevacao': np.random.normal(0, 1, n_amostras),
        'textura': np.random.normal(0, 1, n_amostras),
        'dist_agua': np.random.normal(0, 1, n_amostras),
        'tipo': tipo
    })
    
    # Ajustar características específicas para cada tipo
    if tipo == 'geoglifo':
        df_tipo['area'] += 2.0  # Geoglifos tendem a ser maiores
        df_tipo['circularidade'] -= 1.0  # Menos circulares (mais geométricos)
        df_tipo['elevacao'] -= 0.5  # Menos elevados
    
    elif tipo == 'aldeia_circular':
        df_tipo['circularidade'] += 2.0  # Muito circulares
        df_tipo['dist_agua'] -= 1.0  # Próximos à água
    
    elif tipo == 'vala_defensiva':
        df_tipo['perimetro'] += 1.5  # Perímetro maior
        df_tipo['elevacao'] -= 1.0  # Depressões (valores negativos)
    
    elif tipo == 'terra_preta':
        df_tipo['textura'] += 2.0  # Textura diferenciada
        df_tipo['dist_agua'] -= 0.8  # Próximos à água
    
    elif tipo == 'montículo':
        df_tipo['elevacao'] += 2.0  # Muito elevados
        df_tipo['area'] -= 0.5  # Área menor
    
    # Adicionar ruído aleatório
    df_tipo['area'] += np.random.normal(0, 0.3, n_amostras)
    df_tipo['perimetro'] += np.random.normal(0, 0.3, n_amostras)
    df_tipo['circularidade'] += np.random.normal(0, 0.3, n_amostras)
    df_tipo['elevacao'] += np.random.normal(0, 0.3, n_amostras)
    df_tipo['textura'] += np.random.normal(0, 0.3, n_amostras)
    df_tipo['dist_agua'] += np.random.normal(0, 0.3, n_amostras)
    
    # Concatenar ao DataFrame principal
    dados = pd.concat([dados, df_tipo], ignore_index=True)

# Visualizar os primeiros registros
print("\nPrimeiros registros do conjunto de dados:")
print(dados.head())

# Estatísticas descritivas
print("\nEstatísticas descritivas:")
print(dados.describe())

# Contagem por tipo de estrutura
print("\nContagem por tipo de estrutura:")
print(dados['tipo'].value_counts())

# 2. Visualização exploratória dos dados
print("\nCriando visualizações exploratórias...")

# Configurar estilo dos gráficos
plt.style.use('seaborn-v0_8-whitegrid')
sns.set_palette("viridis")

# Criar figura para pairplot
plt.figure(figsize=(12, 10))
pairplot = sns.pairplot(dados, hue='tipo', height=2.5, corner=True)
plt.suptitle('Relações entre Características por Tipo de Estrutura', y=1.02, fontsize=16)
plt.tight_layout()
pairplot.savefig(os.path.join(RESULTS_DIR, 'pairplot_estruturas.png'), dpi=300)

# Boxplots para cada característica por tipo
plt.figure(figsize=(14, 10))
for i, coluna in enumerate(['area', 'perimetro', 'circularidade', 'elevacao', 'textura', 'dist_agua']):
    plt.subplot(2, 3, i+1)
    sns.boxplot(x='tipo', y=coluna, data=dados)
    plt.title(f'Distribuição de {coluna} por Tipo')
    plt.xticks(rotation=45)
plt.tight_layout()
plt.savefig(os.path.join(RESULTS_DIR, 'boxplots_estruturas.png'), dpi=300)

# Mapa de calor das correlações
plt.figure(figsize=(10, 8))
correlacoes = dados.drop('tipo', axis=1).corr()
sns.heatmap(correlacoes, annot=True, cmap='coolwarm', vmin=-1, vmax=1)
plt.title('Mapa de Calor das Correlações entre Características')
plt.tight_layout()
plt.savefig(os.path.join(RESULTS_DIR, 'correlacoes_estruturas.png'), dpi=300)

# 3. Preparação dos dados para modelagem
print("\nPreparando dados para modelagem...")

# Separar características e alvo
X = dados.drop('tipo', axis=1)
y = dados['tipo']

# Codificar a variável alvo
from sklearn.preprocessing import LabelEncoder
le = LabelEncoder()
y_encoded = le.fit_transform(y)

# Dividir em conjuntos de treino e teste
X_train, X_test, y_train, y_test = train_test_split(
    X, y_encoded, test_size=0.3, random_state=RANDOM_SEED, stratify=y_encoded
)

print(f"Tamanho do conjunto de treino: {X_train.shape[0]} amostras")
print(f"Tamanho do conjunto de teste: {X_test.shape[0]} amostras")

# 4. Treinamento do modelo
print("\nTreinando modelo de classificação...")

# Criar e treinar o modelo
modelo = RandomForestClassifier(
    n_estimators=100,
    max_depth=10,
    random_state=RANDOM_SEED
)
modelo.fit(X_train, y_train)

# 5. Avaliação do modelo
print("\nAvaliando desempenho do modelo...")

# Fazer previsões
y_pred = modelo.predict(X_test)

# Calcular acurácia
acuracia = accuracy_score(y_test, y_pred)
print(f"Acurácia: {acuracia:.4f}")

# Matriz de confusão
cm = confusion_matrix(y_test, y_pred)
plt.figure(figsize=(10, 8))
sns.heatmap(cm, annot=True, fmt='d', cmap='Blues',
            xticklabels=le.classes_,
            yticklabels=le.classes_)
plt.xlabel('Previsto')
plt.ylabel('Real')
plt.title('Matriz de Confusão')
plt.tight_layout()
plt.savefig(os.path.join(RESULTS_DIR, 'matriz_confusao.png'), dpi=300)

# Relatório de classificação
relatorio = classification_report(y_test, y_pred, target_names=le.classes_, output_dict=True)
print("\nRelatório de classificação:")
print(classification_report(y_test, y_pred, target_names=le.classes_))

# 6. Importância das características
print("\nAnalisando importância das características...")

# Obter importância das características
importancia = modelo.feature_importances_
indices = np.argsort(importancia)[::-1]

# Visualizar importância
plt.figure(figsize=(10, 6))
plt.bar(range(X.shape[1]), importancia[indices], align='center')
plt.xticks(range(X.shape[1]), X.columns[indices], rotation=45)
plt.title('Importância das Características para Classificação de Estruturas Arqueológicas')
plt.tight_layout()
plt.savefig(os.path.join(RESULTS_DIR, 'importancia_caracteristicas.png'), dpi=300)

# Criar DataFrame com importância
df_importancia = pd.DataFrame({
    'caracteristica': X.columns,
    'importancia': importancia
}).sort_values('importancia', ascending=False)

print("\nImportância das características:")
print(df_importancia)

# 7. Salvar resultados
print("\nSalvando resultados...")

# Salvar resultados em JSON
resultados = {
    'acuracia': float(acuracia),
    'relatorio': relatorio,
    'importancia_caracteristicas': df_importancia.to_dict(orient='records'),
    'matriz_confusao': cm.tolist(),
    'classes': le.classes_.tolist()
}

with open(os.path.join(RESULTS_DIR, 'resultados_classificacao.json'), 'w') as f:
    json.dump(resultados, f, indent=2)

print(f"Resultados salvos em: {os.path.join(RESULTS_DIR, 'resultados_classificacao.json')}")

# 8. Conclusão
print("\nConclusão:")
print("A análise demonstra que é possível classificar diferentes tipos de estruturas arqueológicas")
print("com base em suas características morfológicas e contextuais com alta precisão.")
print("As características mais importantes para a classificação são:")
for i, row in df_importancia.head(3).iterrows():
    print(f"- {row['caracteristica']}: {row['importancia']:.4f}")

print("\nEste notebook demonstra o potencial da aplicação de técnicas de aprendizado de máquina")
print("para a identificação e classificação de estruturas arqueológicas na Amazônia.")
