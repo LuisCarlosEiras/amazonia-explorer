# Análise de Imagens LIDAR para Detecção de Estruturas Arqueológicas
# Autor: Amazônia Explorer
# Data: Junho 2025
# Descrição: Este notebook demonstra o processamento de imagens LIDAR para detectar
# estruturas arqueológicas ocultas sob a copa das árvores na Amazônia.

import os
import numpy as np
import matplotlib.pyplot as plt
from skimage import filters, feature, segmentation, color, exposure
from scipy import ndimage
import random

# Configurações
RANDOM_SEED = 42
np.random.seed(RANDOM_SEED)
random.seed(RANDOM_SEED)

# Diretório para salvar resultados
RESULTS_DIR = '../data/resultados/notebooks'
os.makedirs(RESULTS_DIR, exist_ok=True)

# 1. Introdução ao processamento de imagens LIDAR
print("# Processamento de Imagens LIDAR para Arqueologia Amazônica")
print("\nEste notebook demonstra técnicas de processamento de imagens aplicadas a dados LIDAR")
print("para detectar estruturas arqueológicas ocultas sob a copa das árvores na Amazônia.")
print("\nAs técnicas incluem:")
print("- Filtragem e realce de imagens")
print("- Detecção de bordas")
print("- Segmentação de estruturas")
print("- Visualização de resultados")

# 2. Geração de dados LIDAR simulados
print("\n## Geração de dados LIDAR simulados")

def gerar_imagem_lidar_simulada(tamanho=512, tipo='geoglifo'):
    """
    Gera uma imagem LIDAR simulada com diferentes tipos de estruturas arqueológicas.
    
    Args:
        tamanho (int): Tamanho da imagem (quadrada)
        tipo (str): Tipo de estrutura ('geoglifo', 'aldeia_circular', 'vala_circular')
    
    Returns:
        numpy.ndarray: Imagem LIDAR simulada
    """
    # Base da imagem (terreno natural)
    imagem = np.random.normal(0.5, 0.1, (tamanho, tamanho))
    
    # Suavizar para simular terreno natural
    imagem = ndimage.gaussian_filter(imagem, sigma=5)
    
    # Adicionar ruído de vegetação
    vegetacao = np.random.normal(0, 0.05, (tamanho, tamanho))
    imagem += vegetacao
    
    # Normalizar para [0, 1]
    imagem = (imagem - imagem.min()) / (imagem.max() - imagem.min())
    
    # Adicionar estrutura arqueológica
    centro_x, centro_y = tamanho // 2, tamanho // 2
    
    if tipo == 'geoglifo':
        # Criar geoglifo geométrico (quadrado com linhas internas)
        tamanho_geoglifo = tamanho // 4
        espessura = tamanho // 50
        
        # Quadrado externo
        imagem[centro_y-tamanho_geoglifo:centro_y-tamanho_geoglifo+espessura, 
               centro_x-tamanho_geoglifo:centro_x+tamanho_geoglifo] += 0.3
        imagem[centro_y+tamanho_geoglifo-espessura:centro_y+tamanho_geoglifo, 
               centro_x-tamanho_geoglifo:centro_x+tamanho_geoglifo] += 0.3
        imagem[centro_y-tamanho_geoglifo:centro_y+tamanho_geoglifo, 
               centro_x-tamanho_geoglifo:centro_x-tamanho_geoglifo+espessura] += 0.3
        imagem[centro_y-tamanho_geoglifo:centro_y+tamanho_geoglifo, 
               centro_x+tamanho_geoglifo-espessura:centro_x+tamanho_geoglifo] += 0.3
        
        # Linhas internas
        imagem[centro_y-espessura//2:centro_y+espessura//2, 
               centro_x-tamanho_geoglifo:centro_x+tamanho_geoglifo] += 0.3
        imagem[centro_y-tamanho_geoglifo:centro_y+tamanho_geoglifo, 
               centro_x-espessura//2:centro_x+espessura//2] += 0.3
        
    elif tipo == 'aldeia_circular':
        # Criar aldeia circular com estruturas internas
        raio = tamanho // 5
        y, x = np.ogrid[-centro_y:tamanho-centro_y, -centro_x:tamanho-centro_x]
        mascara_externa = x*x + y*y <= raio*raio
        mascara_interna = x*x + y*y <= (raio-tamanho//50)*(raio-tamanho//50)
        mascara_anel = mascara_externa & ~mascara_interna
        imagem[mascara_anel] += 0.3
        
        # Adicionar estruturas internas (casas)
        num_estruturas = 8
        raio_interno = raio * 0.6
        for i in range(num_estruturas):
            angulo = 2 * np.pi * i / num_estruturas
            pos_x = int(centro_x + raio_interno * np.cos(angulo))
            pos_y = int(centro_y + raio_interno * np.sin(angulo))
            tamanho_estrutura = tamanho // 40
            imagem[pos_y-tamanho_estrutura:pos_y+tamanho_estrutura, 
                   pos_x-tamanho_estrutura:pos_x+tamanho_estrutura] += 0.25
            
    elif tipo == 'vala_circular':
        # Criar vala circular defensiva
        raio_externo = tamanho // 4
        raio_interno = raio_externo - tamanho // 20
        y, x = np.ogrid[-centro_y:tamanho-centro_y, -centro_x:tamanho-centro_x]
        mascara_externa = x*x + y*y <= raio_externo*raio_externo
        mascara_interna = x*x + y*y <= raio_interno*raio_interno
        mascara_vala = mascara_externa & ~mascara_interna
        imagem[mascara_vala] -= 0.3  # Valas são depressões (valores mais baixos)
        
        # Adicionar entrada (abertura na vala)
        angulo_entrada = np.pi / 4
        largura_entrada = np.pi / 16
        for y in range(tamanho):
            for x in range(tamanho):
                if mascara_vala[y, x]:
                    dx, dy = x - centro_x, y - centro_y
                    angulo = np.arctan2(dy, dx) % (2 * np.pi)
                    if abs(angulo - angulo_entrada) < largura_entrada:
                        imagem[y, x] += 0.3  # Reverter a depressão na entrada
    
    # Normalizar novamente após adicionar estruturas
    imagem = np.clip(imagem, 0, 1)
    
    # Adicionar mais ruído para simular imperfeições na captura LIDAR
    imagem += np.random.normal(0, 0.02, (tamanho, tamanho))
    imagem = np.clip(imagem, 0, 1)
    
    return imagem

# Gerar exemplos de cada tipo de estrutura
print("\nGerando exemplos de estruturas arqueológicas em dados LIDAR simulados...")

tipos = ['geoglifo', 'aldeia_circular', 'vala_circular']
imagens_originais = {}

for tipo in tipos:
    imagens_originais[tipo] = gerar_imagem_lidar_simulada(tipo=tipo)

# Visualizar imagens originais
plt.figure(figsize=(15, 5))
for i, tipo in enumerate(tipos):
    plt.subplot(1, 3, i+1)
    plt.imshow(imagens_originais[tipo], cmap='terrain')
    plt.title(f"{tipo.replace('_', ' ').title()}")
    plt.colorbar(label='Elevação')
    plt.axis('off')
plt.tight_layout()
plt.savefig(os.path.join(RESULTS_DIR, 'lidar_estruturas_originais.png'), dpi=300)

# 3. Técnicas de processamento de imagens
print("\n## Técnicas de processamento de imagens para detecção de estruturas")

# 3.1 Detecção de bordas
print("\n### Detecção de bordas")

def detectar_bordas(imagem):
    """
    Detecta bordas em uma imagem usando o algoritmo Canny.
    
    Args:
        imagem (numpy.ndarray): Imagem de entrada
    
    Returns:
        numpy.ndarray: Imagem com bordas detectadas
    """
    # Aplicar filtro gaussiano para reduzir ruído
    imagem_suavizada = filters.gaussian(imagem, sigma=1.0)
    
    # Detectar bordas com Canny
    bordas = feature.canny(imagem_suavizada, sigma=2.0)
    
    return bordas

# Aplicar detecção de bordas a cada tipo
bordas = {}
for tipo in tipos:
    bordas[tipo] = detectar_bordas(imagens_originais[tipo])

# Visualizar resultados da detecção de bordas
plt.figure(figsize=(15, 5))
for i, tipo in enumerate(tipos):
    plt.subplot(1, 3, i+1)
    plt.imshow(bordas[tipo], cmap='gray')
    plt.title(f"Bordas - {tipo.replace('_', ' ').title()}")
    plt.axis('off')
plt.tight_layout()
plt.savefig(os.path.join(RESULTS_DIR, 'lidar_deteccao_bordas.png'), dpi=300)

# 3.2 Realce de estruturas
print("\n### Realce de estruturas")

def realcar_estruturas(imagem):
    """
    Realça estruturas na imagem usando equalização de histograma local.
    
    Args:
        imagem (numpy.ndarray): Imagem de entrada
    
    Returns:
        numpy.ndarray: Imagem com estruturas realçadas
    """
    # Equalização de histograma local
    imagem_realcada = exposure.equalize_adapthist(imagem, clip_limit=0.03)
    
    return imagem_realcada

# Aplicar realce a cada tipo
realces = {}
for tipo in tipos:
    realces[tipo] = realcar_estruturas(imagens_originais[tipo])

# Visualizar resultados do realce
plt.figure(figsize=(15, 5))
for i, tipo in enumerate(tipos):
    plt.subplot(1, 3, i+1)
    plt.imshow(realces[tipo], cmap='viridis')
    plt.title(f"Realce - {tipo.replace('_', ' ').title()}")
    plt.colorbar(label='Intensidade')
    plt.axis('off')
plt.tight_layout()
plt.savefig(os.path.join(RESULTS_DIR, 'lidar_realce_estruturas.png'), dpi=300)

# 3.3 Segmentação de estruturas
print("\n### Segmentação de estruturas")

def segmentar_estruturas(imagem):
    """
    Segmenta estruturas na imagem usando limiarização e watershed.
    
    Args:
        imagem (numpy.ndarray): Imagem de entrada
    
    Returns:
        numpy.ndarray: Imagem segmentada
    """
    # Limiarização
    limiar = filters.threshold_otsu(imagem)
    mascara_binaria = imagem > limiar
    
    # Distância euclidiana para watershed
    distancia = ndimage.distance_transform_edt(mascara_binaria)
    
    # Encontrar máximos locais
    from scipy import ndimage as ndi
    maximos_locais = feature.peak_local_max(distancia, min_distance=20, labels=mascara_binaria)
    marcadores = np.zeros_like(distancia, dtype=bool)
    marcadores[tuple(maximos_locais.T)] = True
    marcadores = ndi.label(marcadores)[0]
    
    # Aplicar watershed
    rotulos = segmentation.watershed(-distancia, marcadores, mask=mascara_binaria)
    
    # Criar imagem colorida para visualização
    imagem_segmentada = color.label2rgb(rotulos, imagem, alpha=0.5, bg_label=0)
    
    return imagem_segmentada

# Aplicar segmentação a cada tipo
segmentacoes = {}
for tipo in tipos:
    segmentacoes[tipo] = segmentar_estruturas(imagens_originais[tipo])

# Visualizar resultados da segmentação
plt.figure(figsize=(15, 5))
for i, tipo in enumerate(tipos):
    plt.subplot(1, 3, i+1)
    plt.imshow(segmentacoes[tipo])
    plt.title(f"Segmentação - {tipo.replace('_', ' ').title()}")
    plt.axis('off')
plt.tight_layout()
plt.savefig(os.path.join(RESULTS_DIR, 'lidar_segmentacao_estruturas.png'), dpi=300)

# 4. Comparação de técnicas
print("\n## Comparação de técnicas de processamento")

# Criar visualização comparativa para um tipo específico
tipo_exemplo = 'geoglifo'

plt.figure(figsize=(15, 10))

# Original
plt.subplot(2, 2, 1)
plt.imshow(imagens_originais[tipo_exemplo], cmap='terrain')
plt.title("Imagem LIDAR Original")
plt.colorbar(label='Elevação')
plt.axis('off')

# Bordas
plt.subplot(2, 2, 2)
plt.imshow(bordas[tipo_exemplo], cmap='gray')
plt.title("Detecção de Bordas (Canny)")
plt.axis('off')

# Realce
plt.subplot(2, 2, 3)
plt.imshow(realces[tipo_exemplo], cmap='viridis')
plt.title("Realce de Estruturas (CLAHE)")
plt.colorbar(label='Intensidade')
plt.axis('off')

# Segmentação
plt.subplot(2, 2, 4)
plt.imshow(segmentacoes[tipo_exemplo])
plt.title("Segmentação de Estruturas (Watershed)")
plt.axis('off')

plt.tight_layout()
plt.savefig(os.path.join(RESULTS_DIR, 'lidar_comparacao_tecnicas.png'), dpi=300)

# 5. Análise de perfil de elevação
print("\n## Análise de perfil de elevação")

# Extrair perfil de elevação através da estrutura
def extrair_perfil(imagem, inicio, fim, num_pontos=100):
    """
    Extrai um perfil de elevação ao longo de uma linha.
    
    Args:
        imagem (numpy.ndarray): Imagem de entrada
        inicio (tuple): Ponto inicial (y, x)
        fim (tuple): Ponto final (y, x)
        num_pontos (int): Número de pontos no perfil
    
    Returns:
        tuple: (distâncias, valores)
    """
    from scipy import ndimage
    
    # Coordenadas dos pontos ao longo da linha
    y = np.linspace(inicio[0], fim[0], num_pontos)
    x = np.linspace(inicio[1], fim[1], num_pontos)
    
    # Extrair valores usando interpolação
    valores = ndimage.map_coordinates(imagem, np.vstack((y, x)))
    
    # Calcular distâncias
    distancia_total = np.sqrt((fim[0] - inicio[0])**2 + (fim[1] - fim[1])**2)
    distancias = np.linspace(0, distancia_total, num_pontos)
    
    return distancias, valores

# Extrair perfis para cada tipo
perfis = {}
for tipo in tipos:
    imagem = imagens_originais[tipo]
    tamanho = imagem.shape[0]
    centro = tamanho // 2
    
    # Definir pontos de início e fim do perfil
    if tipo == 'geoglifo':
        inicio = (centro - tamanho//4, centro - tamanho//4)
        fim = (centro + tamanho//4, centro + tamanho//4)
    else:  # estruturas circulares
        inicio = (centro - tamanho//4, centro)
        fim = (centro + tamanho//4, centro)
    
    perfis[tipo] = extrair_perfil(imagem, inicio, fim)

# Visualizar perfis de elevação
plt.figure(figsize=(15, 10))
for i, tipo in enumerate(tipos):
    plt.subplot(3, 1, i+1)
    
    # Plotar perfil
    distancias, valores = perfis[tipo]
    plt.plot(distancias, valores, 'b-', linewidth=2)
    
    # Adicionar linha de referência
    plt.axhline(y=0.5, color='r', linestyle='--', alpha=0.5)
    
    plt.title(f"Perfil de Elevação - {tipo.replace('_', ' ').title()}")
    plt.xlabel("Distância")
    plt.ylabel("Elevação")
    plt.grid(True, linestyle='--', alpha=0.7)

plt.tight_layout()
plt.savefig(os.path.join(RESULTS_DIR, 'lidar_perfis_elevacao.png'), dpi=300)

# 6. Conclusão
print("\n## Conclusão")
print("\nEste notebook demonstrou várias técnicas de processamento de imagens aplicadas a dados LIDAR")
print("para detectar estruturas arqueológicas na Amazônia. As técnicas incluem:")
print("- Detecção de bordas para identificar limites de estruturas")
print("- Realce de contraste para melhorar a visibilidade de padrões sutis")
print("- Segmentação para isolar estruturas de interesse")
print("- Análise de perfil de elevação para caracterizar estruturas")
print("\nEstas técnicas podem ser aplicadas a dados LIDAR reais para auxiliar na descoberta")
print("e caracterização de sítios arqueológicos ocultos sob a copa das árvores na Amazônia.")

print("\nResultados salvos em:", RESULTS_DIR)
